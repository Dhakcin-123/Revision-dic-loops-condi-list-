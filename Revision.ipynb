{
  "nbformat": 4,
  "nbformat_minor": 0,
  "metadata": {
    "colab": {
      "provenance": [],
      "authorship_tag": "ABX9TyMggxQIxcYbu4OffxPLYswt",
      "include_colab_link": true
    },
    "kernelspec": {
      "name": "python3",
      "display_name": "Python 3"
    },
    "language_info": {
      "name": "python"
    }
  },
  "cells": [
    {
      "cell_type": "markdown",
      "metadata": {
        "id": "view-in-github",
        "colab_type": "text"
      },
      "source": [
        "<a href=\"https://colab.research.google.com/github/Dhakcin-123/Revision-dic-loops-condi-list-/blob/main/Revision.ipynb\" target=\"_parent\"><img src=\"https://colab.research.google.com/assets/colab-badge.svg\" alt=\"Open In Colab\"/></a>"
      ]
    },
    {
      "cell_type": "code",
      "execution_count": 3,
      "metadata": {
        "colab": {
          "base_uri": "https://localhost:8080/"
        },
        "id": "tv_bKSspydAw",
        "outputId": "8709ceb6-7d0b-43b1-d035-1097318e5e47"
      },
      "outputs": [
        {
          "output_type": "stream",
          "name": "stdout",
          "text": [
            "John\n"
          ]
        }
      ],
      "source": [
        "person = {\n",
        "    \"name\":\"John\",\n",
        "    \"Age\":37,\n",
        "    \"city\":\"Beijing\"\n",
        "}\n",
        "\n",
        "print(person[\"name\"])"
      ]
    },
    {
      "cell_type": "code",
      "source": [
        "del person[\"city\"]\n",
        "print(person)"
      ],
      "metadata": {
        "colab": {
          "base_uri": "https://localhost:8080/"
        },
        "id": "DPnV7PuPzoRf",
        "outputId": "6182fe71-a370-4f95-ffef-cbb2c5122f7a"
      },
      "execution_count": 6,
      "outputs": [
        {
          "output_type": "stream",
          "name": "stdout",
          "text": [
            "{'name': 'John', 'Age': 37}\n"
          ]
        }
      ]
    },
    {
      "cell_type": "code",
      "source": [
        "fruits = [\"strawberry\", \"Watermelon\",\"Apple\"]\n",
        "print(fruits)"
      ],
      "metadata": {
        "colab": {
          "base_uri": "https://localhost:8080/"
        },
        "id": "Tr3SJjyA0ACa",
        "outputId": "a6a257d1-5d05-413d-cae7-bd0bb6a68f54"
      },
      "execution_count": 7,
      "outputs": [
        {
          "output_type": "stream",
          "name": "stdout",
          "text": [
            "['strawberry', 'Watermelon', 'Apple']\n"
          ]
        }
      ]
    },
    {
      "cell_type": "code",
      "source": [
        "fruits.append(\"Mango\")\n",
        "print(fruits)"
      ],
      "metadata": {
        "colab": {
          "base_uri": "https://localhost:8080/"
        },
        "id": "FTL52FBa0WDq",
        "outputId": "910adff9-4c2f-4a71-a5fe-4ce943d2c8bc"
      },
      "execution_count": 10,
      "outputs": [
        {
          "output_type": "stream",
          "name": "stdout",
          "text": [
            "['strawberry', 'Watermelon', 'Apple', 'Mango']\n"
          ]
        }
      ]
    },
    {
      "cell_type": "code",
      "source": [
        "fruits.remove(\"strawberry\")\n",
        "print(fruits)"
      ],
      "metadata": {
        "colab": {
          "base_uri": "https://localhost:8080/"
        },
        "id": "aoSyIRKh0tFo",
        "outputId": "4a941e7c-4b08-45de-f340-3922fcfb3945"
      },
      "execution_count": 12,
      "outputs": [
        {
          "output_type": "stream",
          "name": "stdout",
          "text": [
            "['Watermelon', 'Apple', 'Mango']\n"
          ]
        }
      ]
    },
    {
      "cell_type": "code",
      "source": [
        "num = [1,2,3,4,5]\n",
        "\n",
        "for i in num :\n",
        "  print(i)"
      ],
      "metadata": {
        "colab": {
          "base_uri": "https://localhost:8080/"
        },
        "id": "t390qBaH07nT",
        "outputId": "faacbe1b-2f99-4732-9cdc-132bd4c3dca9"
      },
      "execution_count": 14,
      "outputs": [
        {
          "output_type": "stream",
          "name": "stdout",
          "text": [
            "1\n",
            "2\n",
            "3\n",
            "4\n",
            "5\n"
          ]
        }
      ]
    },
    {
      "cell_type": "code",
      "source": [
        "for key,value in person.items() :\n",
        "  print(key,value)"
      ],
      "metadata": {
        "colab": {
          "base_uri": "https://localhost:8080/"
        },
        "id": "Y1YWOQ_81qF2",
        "outputId": "e10d7df2-818d-4f38-9d72-8a7b58ae168a"
      },
      "execution_count": 17,
      "outputs": [
        {
          "output_type": "stream",
          "name": "stdout",
          "text": [
            "name John\n",
            "Age 37\n"
          ]
        }
      ]
    },
    {
      "cell_type": "code",
      "source": [
        "a = [1,2,3,4,5]\n",
        "\n",
        "for i in a :\n",
        "  if i%2!=0 :\n",
        "    print(i)\n"
      ],
      "metadata": {
        "colab": {
          "base_uri": "https://localhost:8080/"
        },
        "id": "wS38ZW3J2QST",
        "outputId": "40b5e5bf-6f4f-4704-f6cf-a779575d52d1"
      },
      "execution_count": 25,
      "outputs": [
        {
          "output_type": "stream",
          "name": "stdout",
          "text": [
            "1\n",
            "3\n",
            "5\n"
          ]
        }
      ]
    },
    {
      "cell_type": "code",
      "source": [
        "a = int(input(\"What is your age: \"))\n",
        "\n",
        "if a>18:\n",
        "  print(\"You are an adult\")\n",
        "else:\n",
        "  print(\"You are not an adult\")"
      ],
      "metadata": {
        "colab": {
          "base_uri": "https://localhost:8080/"
        },
        "id": "yF1me7rA36Hx",
        "outputId": "3bc07259-8782-494a-d5fd-9c0d564b7c5c"
      },
      "execution_count": 27,
      "outputs": [
        {
          "output_type": "stream",
          "name": "stdout",
          "text": [
            "What is your age: 14\n",
            "You are not an adult\n"
          ]
        }
      ]
    },
    {
      "cell_type": "code",
      "source": [
        "l = int(input(\"Enter a number: \"))\n",
        "\n",
        "if l%2==0:\n",
        "  print(\"Even\")\n",
        "else:\n",
        "  print(\"Odd\")"
      ],
      "metadata": {
        "colab": {
          "base_uri": "https://localhost:8080/"
        },
        "id": "vTfJVFsp4d0b",
        "outputId": "05d1e293-47b5-4072-865b-943e939c69a3"
      },
      "execution_count": 29,
      "outputs": [
        {
          "output_type": "stream",
          "name": "stdout",
          "text": [
            "Enter a number: 9\n",
            "odd\n"
          ]
        }
      ]
    },
    {
      "cell_type": "code",
      "source": [
        "s = {\n",
        "    \"s1\":{\"Name\":\"Max\",\n",
        "          \"Age\":15,\n",
        "          \"Marks\":[87,79,90]},\n",
        "    \"s2\":{\"Name\":\"Tom\",\n",
        "          \"Age\":18,\n",
        "          \"Marks\":[54,36,100]},\n",
        "    \"s3\":{\"Name\":\"Paul\",\n",
        "          \"Age\":25,\n",
        "          \"Marks\":[100,0,100]}\n",
        "}\n",
        "\n",
        "print(s)\n",
        "for key,value in s.items():\n",
        "  n = value[\"Name\"]\n",
        "  m = value[\"Marks\"]\n",
        "  am = sum(m)/len(m)\n",
        "  print(n,\". He has got \",m,\" marks and his average is\",am)\n",
        "  if am>70:\n",
        "    print(n,\"has passed the exam.\")\n",
        "  else:\n",
        "    print(n,\"has failed the exam.\")"
      ],
      "metadata": {
        "colab": {
          "base_uri": "https://localhost:8080/"
        },
        "id": "564B6O4y42mh",
        "outputId": "c4daae55-011f-42d1-ade8-5769165abc26"
      },
      "execution_count": 41,
      "outputs": [
        {
          "output_type": "stream",
          "name": "stdout",
          "text": [
            "{'s1': {'Name': 'Max', 'Age': 15, 'Marks': [87, 79, 90]}, 's2': {'Name': 'Tom', 'Age': 18, 'Marks': [54, 36, 100]}, 's3': {'Name': 'Paul', 'Age': 25, 'Marks': [100, 0, 100]}}\n",
            "Max . He has got  [87, 79, 90]  marks and his average is 85.33333333333333\n",
            "Max has passed the exam.\n",
            "Tom . He has got  [54, 36, 100]  marks and his average is 63.333333333333336\n",
            "Tom has failed the exam.\n",
            "Paul . He has got  [100, 0, 100]  marks and his average is 66.66666666666667\n",
            "Paul has failed the exam.\n"
          ]
        }
      ]
    }
  ]
}